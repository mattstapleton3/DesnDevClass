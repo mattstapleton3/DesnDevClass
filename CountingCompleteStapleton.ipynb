{
 "cells": [
  {
   "cell_type": "code",
   "execution_count": 4,
   "id": "66f54ef8",
   "metadata": {},
   "outputs": [
    {
     "name": "stdout",
     "output_type": "stream",
     "text": [
      "b'<!DOCTYPE html>\\n<html lang=\"en\">\\n    <head>\\n        \\n        <script type=\"text/javascript\">\\n    window.EnabledFlags = [\"plums.geolocation_for_optimizely\",\"plums.cupid.testimonials\",\"plums.cupid.migration_release\",\"plums.new_contact_form_fields\",\"plums.content_placement_in_help_article\",\"plums.enable_fullstory\"]</script>\\n        <meta charset=\"utf-8\">\\n<meta content=\"IE=edge,chrome=1\" http-equiv=\"X-UA-Compatible\">\\n<meta content=\"width=device-width, initial-scale=1\" name=\"viewport\">\\n<meta content='\n"
     ]
    }
   ],
   "source": [
    "#I have no idea why, but I was unable to get this program to pull the .txt file from the previous exercise. I tried to figure out what caused this disconnect, but ultimately decided just to reproduce the process within the program file.\n",
    "\n",
    "import urllib.request, urllib.error, urllib.parse\n",
    "\n",
    "url = 'https://mailchimp.com/legal/privacy/'\n",
    "\n",
    "response = urllib.request.urlopen(url)\n",
    "webContents = response.read()\n",
    "\n",
    "print(webContents[0:500])"
   ]
  },
  {
   "cell_type": "code",
   "execution_count": 5,
   "id": "5e916071",
   "metadata": {},
   "outputs": [
    {
     "name": "stdout",
     "output_type": "stream",
     "text": [
      "130993\n",
      "134362\n",
      "id=\"1._The_Basics\" data-behavior=\"highlight-section\" data-module-id=\"articleText\" data-entry-id=\"4y0y6GusG5qFtSY94BaXeQ\" data-context-text=\"1. The Basics\">\\n\\n    <h2 class=\"h4\">\\n        1. The Basics    </h2>\\n    <h6 id=\\'heading+a.+about+us\\'>A. About Us</h6>\\n<p>Mailchimp is an online marketing platform operated by The Rocket Science Group LLC, a company headquartered in the State of Georgia in the United States (\"<strong>we</strong>,\" \"<strong>us</strong>,\" \"<strong>our</strong>,\" and \"<strong>Mailchimp</strong>\").</p>\\n<p>Our Service enables our Members to, among other things, send and manage email campaigns across channels, serve advertisements, and create Websites and Landing Pages. We also provide other related services, such as real-time data analytics and insights to help our Members track and personalize their marketing activities. Find out more about our Service <a href=\"/\">here</a>.</p>\\n<h6 id=\\'heading+b.+key+terms\\'>B. Key Terms</h6>\\n<p>In this privacy policy, these \n"
     ]
    }
   ],
   "source": [
    "#Same thing as function.\n",
    "\n",
    "contents = str(webContents)\n",
    "startLoc = contents.find(\"id=\\\"1._The_Basics\\\"\")\n",
    "endLoc = contents.find(\"id=\\\"2._Privacy_for_Members\\\"\")\n",
    "\n",
    "print(startLoc)\n",
    "print(endLoc)\n",
    "\n",
    "contents = contents[startLoc:endLoc]\n",
    "print(contents[0:1000])"
   ]
  },
  {
   "cell_type": "code",
   "execution_count": 8,
   "id": "c5681b31",
   "metadata": {},
   "outputs": [
    {
     "name": "stdout",
     "output_type": "stream",
     "text": [
      "id=\"1._The_Basics\" data-behavior=\"highlight-section\" data-module-id=\"articleText\" data-entry-id=\"4y0y6GusG5qFtSY94BaXeQ\" data-context-text=\"1. The Basics\">            1. The Basics        A. About UsMailchimp is an online marketing platform operated by The Rocket Science Group LLC, a company headquartered in the State of Georgia in the United States (\"we,\" \"us,\" \"our,\" and \"Mailchimp\").Our Service enables our Members to, among other things, send and manage email campaigns across channels, serve \n"
     ]
    }
   ],
   "source": [
    "inside = 0\n",
    "text = ''\n",
    "\n",
    "for char in contents:\n",
    "    if char == '<':\n",
    "        inside = 1\n",
    "    elif (inside == 1 and char == '>'):\n",
    "        inside = 0\n",
    "    elif inside== 1:\n",
    "        continue\n",
    "    else:\n",
    "        text += char\n",
    "\n",
    "text = text.replace(\"\\\\n\", \"\")\n",
    "text = text.replace(\"\\\\n\", \"\")\n",
    "print(text[0: 500])\n",
    "\n",
    "f = open('mailchimpprivacy.txt', 'w')\n",
    "f.write(text)\n",
    "f.close()"
   ]
  },
  {
   "cell_type": "code",
   "execution_count": 9,
   "id": "e0bcfb09",
   "metadata": {},
   "outputs": [],
   "source": [
    "#Alright, differences start here. Pretty straightforward so far, but probably didn't need to include the read function.\n",
    "\n",
    "f = open('mailchimpprivacy.txt', 'r')\n",
    "fileText = str(f.read().lower())\n",
    "f.close()"
   ]
  },
  {
   "cell_type": "code",
   "execution_count": 12,
   "id": "61403ab0",
   "metadata": {},
   "outputs": [
    {
     "name": "stdout",
     "output_type": "stream",
     "text": [
      "['id', '1', '_the_basics', 'data', 'behavior', 'highlight', 'section', 'data', 'module', 'id', 'articletext', 'data', 'entry', 'id', '4y0y6gusg5qftsy94baxeq', 'data', 'context', 'text', '1', 'the', 'basics', '1', 'the', 'basics', 'a', 'about', 'usmailchimp', 'is', 'an', 'online', 'marketing', 'platform', 'operated', 'by', 'the', 'rocket', 'science', 'group', 'llc', 'a', 'company', 'headquartered', 'in', 'the', 'state', 'of', 'georgia', 'in', 'the', 'united', 'states', 'we', 'us', 'our', 'and', 'mailchimp', 'our', 'service', 'enables', 'our', 'members', 'to', 'among', 'other', 'things', 'send', 'and', 'manage', 'email', 'campaigns', 'across', 'channels', 'serve', 'advertisements', 'and']\n"
     ]
    }
   ],
   "source": [
    "#Was a little worried with what was displaying, so I entended the displayed characters from 50 to 75.\n",
    "\n",
    "def preprocess_text(text):\n",
    "    import re\n",
    "    return re.compile(r'\\W+', re.UNICODE).split(text)\n",
    "\n",
    "word_bag = preprocess_text(fileText)\n",
    "print(word_bag[0:75])"
   ]
  },
  {
   "cell_type": "code",
   "execution_count": 18,
   "id": "5a773e83",
   "metadata": {},
   "outputs": [
    {
     "name": "stdout",
     "output_type": "stream",
     "text": [
      "['data', 'behavior', 'highlight', 'section', 'data', 'module', 'articletext', 'data', 'entry', 'data', 'context', 'text', 'basics', 'basics', 'about', 'usmailchimp', 'online', 'marketing', 'platform', 'operated', 'rocket', 'science', 'group', 'llc', 'company', 'headquartered', 'state', 'georgia', 'united', 'states', 'we', 'us', 'our', 'mailchimp', 'our', 'service', 'enables', 'our', 'members', 'among', 'other', 'things', 'send', 'manage', 'email', 'campaigns', 'across', 'channels', 'serve', 'advertisements', 'create', 'websites', 'landing', 'pages', 'we', 'also', 'provide', 'other', 'related', 'services', 'such', 'real', 'time', 'data', 'analytics', 'insights', 'help', 'our', 'members', 'track', 'personalize', 'their', 'marketing', 'activities', 'find']\n"
     ]
    }
   ],
   "source": [
    "#This was certainly a process. Had to run it a variety of times to get all the little words I didn't want out. I decided to keep in some pronoun-based words like us and our to display how often the company refers to themselves or others.\n",
    "\n",
    "stop_words = ['and', 'or', 'by', 'to', 'as', 'is', 'id', '1', '_the_basics', '4y0y6gusg5qftsy94baxeq', 'the', 'a', 'an', 'the', 'an', 'on', 'of', 'in']\n",
    "\n",
    "def removeStopWords(word_bag, stop_words):\n",
    "    return [w for w in word_bag if w not in stop_words]\n",
    "\n",
    "cleaned_words = removeStopWords(word_bag, stop_words)\n",
    "print(cleaned_words[0:75])"
   ]
  },
  {
   "cell_type": "code",
   "execution_count": 20,
   "id": "e0838f16",
   "metadata": {},
   "outputs": [
    {
     "name": "stdout",
     "output_type": "stream",
     "text": [
      "{'data': 5, 'behavior': 1, 'highlight': 1, 'section': 1, 'module': 1, 'articletext': 1, 'entry': 1, 'context': 3, 'text': 1, 'basics': 2, 'about': 3, 'usmailchimp': 1, 'online': 1, 'marketing': 4, 'platform': 2, 'operated': 1, 'rocket': 1, 'science': 1, 'group': 1, 'llc': 1, 'company': 1, 'headquartered': 1, 'state': 1, 'georgia': 1, 'united': 1, 'states': 1, 'we': 2, 'us': 4, 'our': 12, 'mailchimp': 4, 'service': 5, 'enables': 1, 'members': 3, 'among': 1, 'other': 4, 'things': 1, 'send': 1, 'manage': 2, 'email': 4, 'campaigns': 2, 'across': 1, 'channels': 1, 'serve': 1, 'advertisements': 1, 'create': 1, 'websites': 1, 'landing': 2, 'pages': 1, 'also': 1, 'provide': 1, 'related': 2, 'services': 1, 'such': 1, 'real': 1, 'time': 1, 'analytics': 1, 'insights': 1, 'help': 1, 'track': 1, 'personalize': 1, 'their': 2, 'activities': 2, 'find': 1, 'out': 1, 'more': 2, 'here': 1, 'b': 1, 'key': 1, 'termsin': 1, 'this': 1, 'privacy': 1, 'policy': 1, 'these': 1, 'terms': 3, 'have': 1, 'following': 1, 'meanings': 1, 'affiliate': 1, 'means': 7, 'entity': 4, 'that': 3, 'directly': 2, 'indirectly': 2, 'controls': 1, 'controlled': 2, 'under': 1, 'common': 1, 'control': 2, 'with': 5, 'contact': 5, 'person': 3, 'member': 8, 'may': 2, 'through': 1, 'words': 1, 'anyone': 2, 's': 3, 'distribution': 2, 'list': 3, 'whom': 1, 'has': 4, 'given': 3, 'information': 6, 'who': 2, 'otherwise': 2, 'interacted': 1, 'via': 1, 'for': 3, 'example': 2, 'if': 1, 'you': 2, 'are': 2, 'subscriber': 1, 'your': 3, 'shopper': 1, 'website': 1, 'page': 1, 'would': 1, 'be': 3, 'considered': 1, 'ownership': 1, 'voting': 1, 'similar': 1, 'interest': 1, 'representing': 1, 'fifty': 1, 'percent': 1, '50': 1, 'total': 1, 'interests': 1, 'then': 1, 'outstanding': 1, 'question': 1, 'term': 1, 'shall': 1, 'construed': 1, 'accordingly': 1, 'contacts': 2, 'upload': 1, 'all': 2, 'associated': 1, 'those': 1, 'addresses': 1, 'site': 1, 'meaning': 2, 'it': 2, 'standard': 2, 'use': 4, 'any': 5, 'registered': 1, 'xe2': 4, 'x80': 4, 'x9cmobile': 1, 'app': 1, 'x9d': 2, 'one': 1, 'applications': 1, 'available': 1, 'mobile': 1, 'devices': 1, 'personal': 2, 'identifies': 1, 'can': 1, 'used': 1, 'identify': 1, 'individual': 1, 'examples': 1, 'include': 1, 'but': 1, 'not': 1, 'limited': 1, 'first': 1, 'last': 1, 'name': 1, 'date': 1, 'birth': 1, 'address': 1, 'gender': 1, 'occupation': 1, 'demographic': 1, 'x9cservice': 1, 'visitor': 2, 'depending': 2, 'visits': 1, 'sites': 1, 'offices': 1, 'engages': 1, 'at': 1, 'events': 1, 'connection': 1, 'recruitment': 1, 'either': 1, '': 1}\n"
     ]
    }
   ],
   "source": [
    "#This worked perfectly the first time, which scared me. So I ran it a few more times for safe measures.\n",
    "\n",
    "def wordsToDictionary(word_bag):\n",
    "    word_freq = [word_bag.count(word) for word in word_bag]\n",
    "    return dict(list(zip(word_bag,word_freq)))\n",
    "\n",
    "dict_words = wordsToDictionary(cleaned_words)\n",
    "\n",
    "print(dict_words)"
   ]
  },
  {
   "cell_type": "code",
   "execution_count": 22,
   "id": "5331740b",
   "metadata": {},
   "outputs": [
    {
     "name": "stdout",
     "output_type": "stream",
     "text": [
      "(12, 'our')\n",
      "(8, 'member')\n",
      "(7, 'means')\n",
      "(6, 'information')\n",
      "Self-Referral to Company: 4\n",
      "Referrals to Privacy: 1\n",
      "mailchimp appeared more often\n",
      "entity appeared more often\n",
      "email appeared more often\n"
     ]
    }
   ],
   "source": [
    "#I decided to focus on different words that had contradictory or complimentary meanings within a privacy policy, seen below. I was particularly impressed with the frequency of 'our', as I believe MailChimp really wanted to foster an atmosphere of community.\n",
    "\n",
    "def sortDictionary(words):\n",
    "    aux = [(words[key], key) for key in words]\n",
    "    aux.sort()\n",
    "    aux.reverse()\n",
    "    return aux\n",
    "\n",
    "sort_dict = sortDictionary(dict_words)\n",
    "\n",
    "x = 0\n",
    "for pair in sort_dict:\n",
    "    print(str(pair))\n",
    "    x += 1\n",
    "    if x==4:\n",
    "        break\n",
    "        \n",
    "print(\"Self-Referral to Company: \" + str(dict_words.get(\"mailchimp\")))\n",
    "print(\"Referrals to Privacy: \" + str(dict_words.get(\"privacy\")))\n",
    "\n",
    "def compare_words(word_one, word_two):\n",
    "    if not word_one in dict_words or not word_two in dict_words:\n",
    "       print(\"Word(s) not found\")\n",
    "    elif dict_words[word_one] >  dict_words[word_two]:\n",
    "        print(word_one + \" appeared more often\")\n",
    "    elif dict_words[word_two] >  dict_words[word_one]:\n",
    "        print(word_two + \" appeared more often\") \n",
    "    else:\n",
    "        print(\"Words occurred with equal frequency\")\n",
    "        \n",
    "compare_words(\"mailchimp\",\"privacy\")\n",
    "compare_words(\"company\",\"entity\")\n",
    "compare_words(\"platform\",\"email\")"
   ]
  },
  {
   "cell_type": "code",
   "execution_count": null,
   "id": "172e153f",
   "metadata": {},
   "outputs": [],
   "source": []
  }
 ],
 "metadata": {
  "kernelspec": {
   "display_name": "Python 3",
   "language": "python",
   "name": "python3"
  },
  "language_info": {
   "codemirror_mode": {
    "name": "ipython",
    "version": 3
   },
   "file_extension": ".py",
   "mimetype": "text/x-python",
   "name": "python",
   "nbconvert_exporter": "python",
   "pygments_lexer": "ipython3",
   "version": "3.8.8"
  }
 },
 "nbformat": 4,
 "nbformat_minor": 5
}
