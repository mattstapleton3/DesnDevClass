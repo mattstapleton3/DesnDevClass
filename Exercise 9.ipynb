{
 "cells": [
  {
   "cell_type": "markdown",
   "id": "43f1fa34",
   "metadata": {},
   "source": [
    "# Exercise Nine: Numbers\n",
    "\n",
    "Had some initial issues locating the data, mostly because everything I found was labeled \"R3\" rather than \"R1.\" I finally realized it was just a different release!\n",
    "\n",
    "I wasn't entirely sure why different years broke so much. So I just used 2016 like the example."
   ]
  },
  {
   "cell_type": "markdown",
   "id": "1915f050",
   "metadata": {},
   "source": [
    "## Steps 1 and 2: Importing Data "
   ]
  },
  {
   "cell_type": "code",
   "execution_count": 43,
   "id": "e6b0acf9",
   "metadata": {},
   "outputs": [
    {
     "name": "stdout",
     "output_type": "stream",
     "text": [
      "<bound method NDFrame.head of          id  year   age     sex   race       degree prfmnce artexbt\n",
      "59599     1  2016  47.0    male  white     bachelor     NaN     NaN\n",
      "59600     2  2016  61.0    male  white  high school     NaN     NaN\n",
      "59601     3  2016  72.0    male  white     bachelor     yes      no\n",
      "59602     4  2016  43.0  female  white  high school     NaN     NaN\n",
      "59603     5  2016  55.0  female  white     graduate      no     yes\n",
      "...     ...   ...   ...     ...    ...          ...     ...     ...\n",
      "62461  2863  2016  57.0  female  white     graduate     NaN     NaN\n",
      "62462  2864  2016  77.0    male  white  high school     NaN     NaN\n",
      "62463  2865  2016  87.0  female  white  high school      no      no\n",
      "62464  2866  2016  55.0  female  white  high school     NaN     NaN\n",
      "62465  2867  2016  72.0    male  white     bachelor      no     yes\n",
      "\n",
      "[2867 rows x 8 columns]>\n"
     ]
    }
   ],
   "source": [
    "import pandas as pd\n",
    "\n",
    "columns = ['id', 'year', 'age', 'sex', 'race', 'degree', 'prfmnce','artexbt']\n",
    "df = pd.read_stata(\"GSS7218_R3.dta\", columns=columns)\n",
    "\n",
    "df = df.loc[df['year'].isin({2016})]\n",
    "print(df.head)"
   ]
  },
  {
   "cell_type": "code",
   "execution_count": 14,
   "id": "8930d899",
   "metadata": {},
   "outputs": [
    {
     "name": "stdout",
     "output_type": "stream",
     "text": [
      "<bound method NDFrame.head of          id  year   age     sex   race          degree prfmnce artexbt\n",
      "59601     3  2016  72.0    male  white        bachelor     yes      no\n",
      "59603     5  2016  55.0  female  white        graduate      no     yes\n",
      "59606     8  2016  23.0  female  other     high school      no      no\n",
      "59608    10  2016  71.0    male  white  junior college     yes      no\n",
      "59609    11  2016  33.0  female  black     high school      no      no\n",
      "...     ...   ...   ...     ...    ...             ...     ...     ...\n",
      "62456  2858  2016  41.0  female  white     high school      no      no\n",
      "62458  2860  2016  57.0    male  white     high school      no      no\n",
      "62460  2862  2016  75.0  female  white     high school     yes      no\n",
      "62463  2865  2016  87.0  female  white     high school      no      no\n",
      "62465  2867  2016  72.0    male  white        bachelor      no     yes\n",
      "\n",
      "[1462 rows x 8 columns]>\n"
     ]
    }
   ],
   "source": [
    "df = df.loc[df['prfmnce'].notna()]\n",
    "\n",
    "df = df.loc[df['age'].notna()]\n",
    "print(df.head)"
   ]
  },
  {
   "cell_type": "markdown",
   "id": "e1d313bb",
   "metadata": {},
   "source": [
    "## Step 3: Quantitative Data Aspects"
   ]
  },
  {
   "cell_type": "code",
   "execution_count": 44,
   "id": "c0ad733b",
   "metadata": {},
   "outputs": [
    {
     "name": "stdout",
     "output_type": "stream",
     "text": [
      "49.15575778788939\n"
     ]
    },
    {
     "data": {
      "image/png": "[encoded data removed]",
      "text/plain": [
       "<Figure size 432x288 with 1 Axes>"
      ]
     },
     "metadata": {
      "needs_background": "light"
     },
     "output_type": "display_data"
    }
   ],
   "source": [
    "df = df.replace('89 or older', 89)\n",
    "df['age'] = pd.to_numeric(df['age'])\n",
    "print(df['age'].mean())\n",
    "\n",
    "import matplotlib.pyplot as plt\n",
    "df.groupby('race')['age'].mean().plot(kind='barh')\n",
    "plt.xlabel('Mean Age by Race')\n",
    "plt.legend();"
   ]
  },
  {
   "cell_type": "code",
   "execution_count": 45,
   "id": "ce4dc436",
   "metadata": {},
   "outputs": [
    {
     "data": {
      "image/png": "[encoded data removed]",
      "text/plain": [
       "<Figure size 432x288 with 1 Axes>"
      ]
     },
     "metadata": {},
     "output_type": "display_data"
    }
   ],
   "source": [
    "race_counts = df['race'].value_counts()\n",
    "labels = [\"White\", \"Black\", \"Other\"]\n",
    "colors = [\"#FF0000\", \"#99FF99\", \"#FF9999\"]\n",
    "explode = (0, 0.1)\n",
    "fig1, ax1 = plt.subplots()\n",
    "ax1.pie(race_counts, labels=labels, colors=colors, autopct='%1.1f%%', shadow=True, startangle=90)\n",
    "ax1.axis('equal')  \n",
    "plt.tight_layout()\n",
    "plt.show()"
   ]
  },
  {
   "cell_type": "markdown",
   "id": "fb5d9cd8",
   "metadata": {},
   "source": [
    "## Step 4: GroupBy Arguments"
   ]
  },
  {
   "cell_type": "code",
   "execution_count": 46,
   "id": "0f34b405",
   "metadata": {},
   "outputs": [
    {
     "data": {
      "text/plain": [
       "degree               \n",
       "lt high school  white     197\n",
       "                other      71\n",
       "                black      60\n",
       "high school     white    1057\n",
       "                black     292\n",
       "                other     112\n",
       "junior college  white     166\n",
       "                black      33\n",
       "                other      17\n",
       "bachelor        white     426\n",
       "                black      71\n",
       "                other      39\n",
       "graduate        white     250\n",
       "                other      37\n",
       "                black      31\n",
       "Name: race, dtype: int64"
      ]
     },
     "execution_count": 46,
     "metadata": {},
     "output_type": "execute_result"
    }
   ],
   "source": [
    "degree_race = df.groupby('degree')['race'].value_counts()\n",
    "degree_race"
   ]
  },
  {
   "cell_type": "code",
   "execution_count": 47,
   "id": "be5b5a1c",
   "metadata": {},
   "outputs": [
    {
     "data": {
      "text/plain": [
       "artexbt       \n",
       "yes      white    394\n",
       "         black     56\n",
       "         other     31\n",
       "no       white    689\n",
       "         black    202\n",
       "         other     97\n",
       "Name: race, dtype: int64"
      ]
     },
     "execution_count": 47,
     "metadata": {},
     "output_type": "execute_result"
    }
   ],
   "source": [
    "exhibition_by_race = df.groupby('artexbt')['race'].value_counts()\n",
    "exhibition_by_race"
   ]
  },
  {
   "cell_type": "code",
   "execution_count": 50,
   "id": "865ebdac",
   "metadata": {},
   "outputs": [
    {
     "data": {
      "image/png": "[encoded data removed]",
      "text/plain": [
       "<Figure size 432x288 with 1 Axes>"
      ]
     },
     "metadata": {
      "needs_background": "light"
     },
     "output_type": "display_data"
    }
   ],
   "source": [
    "df.groupby('race')['artexbt'].value_counts().plot(kind='barh')\n",
    "plt.xlabel('Exhibit Attendance by Race')\n",
    "plt.legend();"
   ]
  },
  {
   "cell_type": "code",
   "execution_count": null,
   "id": "bc7b3761",
   "metadata": {},
   "outputs": [],
   "source": []
  }
 ],
 "metadata": {
  "kernelspec": {
   "display_name": "Python 3 (ipykernel)",
   "language": "python",
   "name": "python3"
  },
  "language_info": {
   "codemirror_mode": {
    "name": "ipython",
    "version": 3
   },
   "file_extension": ".py",
   "mimetype": "text/x-python",
   "name": "python",
   "nbconvert_exporter": "python",
   "pygments_lexer": "ipython3",
   "version": "3.8.11"
  }
 },
 "nbformat": 4,
 "nbformat_minor": 5
}
