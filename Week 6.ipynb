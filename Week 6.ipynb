{
 "cells": [
  {
   "cell_type": "markdown",
   "id": "97f11341",
   "metadata": {},
   "source": [
    "# Exercise Six: Structured Data with ugly soup and Pandas\n",
    "\n",
    "This example will scrape information from the github page for the user \"pret.\" pret primarily works on the Pokemon game recreations from scratch that I thought would be interesting to work on. Turns out, github has a variety of little quirks and issues for the Beautiful Soup scraper to work with, which led to me wanting to rip my hair out. At that point, I was far too deep to try anything else, so you'll see some gross looking code that I tried to clean up at the end. \n",
    "\n",
    "## Stages 1-3 (Ambiguous)\n",
    "\n",
    "Below you'll see the first three steps of the project. I thought that the way you presented the data in the final post was much cleaner than what I had been doing previously, so I decided to work with that as well.\n",
    "\n",
    "The only problematic section here regards the \"information\" project_dict. Previously, it was to be divided between \"Language,\" \"Stargazers,\" and \"Hooks,\" but try as I might these information pieces refused to separate from one another per the way github displays them. Dividing each section further would return a variety of errors that people online didn't want to solve, and seemed directly related to issues with reading data and text in the Beautiful Soup scraper."
   ]
  },
  {
   "cell_type": "code",
   "execution_count": 122,
   "id": "f28b7d72",
   "metadata": {},
   "outputs": [],
   "source": [
    "import requests\n",
    "from bs4 import BeautifulSoup\n",
    "import pandas as pd\n",
    "import re"
   ]
  },
  {
   "cell_type": "code",
   "execution_count": 123,
   "id": "4f811316",
   "metadata": {},
   "outputs": [],
   "source": [
    "url = 'https://github.com/pret'\n",
    "\n",
    "user_agent = {'User-agent': 'Mozilla/5.0'}\n",
    "response = response = requests.get(url, headers = user_agent)\n",
    "article = BeautifulSoup(response.text, 'html.parser')\n",
    "\n",
    "project_dict = {'projecttitle':[], 'projectd':[], 'information':[]}"
   ]
  },
  {
   "cell_type": "code",
   "execution_count": 124,
   "id": "c02fd57b",
   "metadata": {
    "scrolled": false
   },
   "outputs": [
    {
     "name": "stdout",
     "output_type": "stream",
     "text": [
      "['\\npokered\\n', '\\npokecrystal\\n', '\\npokeemerald\\n', '\\npokeruby\\n', '\\npokeyellow\\n', '\\npokegold\\n']\n",
      "['\\n        Disassembly of Pokémon Red/Blue\\n      ', '\\n        Disassembly of Pokémon Crystal\\n      ', '\\n        Decompilation of Pokémon Emerald\\n      ', '\\n        Decompilation of Pokémon Ruby/Sapphire\\n      ', '\\n        Disassembly of Pokemon Yellow\\n      ', '\\n        Disassembly of Pokémon Gold/Silver\\n      ']\n",
      "['\\n\\n\\nAssembly\\n\\n\\n\\n\\n\\n            2.9k\\n          \\n\\n\\n\\n\\n            529\\n          \\n', '\\n\\n\\nAssembly\\n\\n\\n\\n\\n\\n            1.5k\\n          \\n\\n\\n\\n\\n            471\\n          \\n', '\\n\\n\\nC\\n\\n\\n\\n\\n\\n            920\\n          \\n\\n\\n\\n\\n            683\\n          \\n', '\\n\\n\\nC\\n\\n\\n\\n\\n\\n            519\\n          \\n\\n\\n\\n\\n            150\\n          \\n', '\\n\\n\\nAssembly\\n\\n\\n\\n\\n\\n            420\\n          \\n\\n\\n\\n\\n            134\\n          \\n', '\\n\\n\\nAssembly\\n\\n\\n\\n\\n\\n            251\\n          \\n\\n\\n\\n\\n            61\\n          \\n']\n"
     ]
    }
   ],
   "source": [
    "for project in soup.find_all('div', class_='pinned-item-list-item-content'):\n",
    "    project_dict['projecttitle'].append(project.find().find('a').text)\n",
    "    project_dict['projectd'].append(project.find(class_=\"pinned-item-desc color-text-secondary text-small d-block mt-2 mb-3\").text)\n",
    "    project_dict['information'].append(project.find(class_=\"mb-0 f6 color-text-secondary\").text)\n",
    "                                    \n",
    "print(project_dict['projecttitle'])\n",
    "print(project_dict['projectd'])\n",
    "print(project_dict['information'])"
   ]
  },
  {
   "cell_type": "markdown",
   "id": "74b00874",
   "metadata": {},
   "source": [
    "## Step 4: trying to make the data look nice at all\n",
    "\n",
    "The data itself was horrendously ugly due to the way Beautiful Soup attempted to read github, so I tried to clean it the best I could with some string cleaning functions that I discovered as I worked and researched for this project. I was ultimately unable to make them look good or become separated, leading to the strange looking data presentation here. I have included some of the steps I took."
   ]
  },
  {
   "cell_type": "code",
   "execution_count": 125,
   "id": "22e4ecf8",
   "metadata": {
    "scrolled": true
   },
   "outputs": [
    {
     "name": "stdout",
     "output_type": "stream",
     "text": [
      "['Assembly            2.9k                      529          ', 'Assembly            1.5k                      471          ', 'C            920                      683          ', 'C            519                      150          ', 'Assembly            420                      134          ', 'Assembly            251                      61          ']\n",
      "['Assembly2.9k529', 'Assembly1.5k471', 'C920683', 'C519150', 'Assembly420134', 'Assembly25161']\n"
     ]
    }
   ],
   "source": [
    "information = project_dict['information']\n",
    "newinfo1 = []\n",
    "\n",
    "for element in information:\n",
    "    newinfo1.append(element.replace(\"\\n\", \"\"))\n",
    "\n",
    "print(newinfo1)\n",
    "\n",
    "infofinal = []\n",
    "for element in newinfo1:\n",
    "    infofinal.append(element.replace(\" \", \"\"))\n",
    "    \n",
    "print(infofinal)"
   ]
  },
  {
   "cell_type": "code",
   "execution_count": 126,
   "id": "11180e3d",
   "metadata": {},
   "outputs": [
    {
     "data": {
      "text/html": [
       "<div>\n",
       "<style scoped>\n",
       "    .dataframe tbody tr th:only-of-type {\n",
       "        vertical-align: middle;\n",
       "    }\n",
       "\n",
       "    .dataframe tbody tr th {\n",
       "        vertical-align: top;\n",
       "    }\n",
       "\n",
       "    .dataframe thead th {\n",
       "        text-align: right;\n",
       "    }\n",
       "</style>\n",
       "<table border=\"1\" class=\"dataframe\">\n",
       "  <thead>\n",
       "    <tr style=\"text-align: right;\">\n",
       "      <th></th>\n",
       "      <th>projecttitle</th>\n",
       "      <th>projectd</th>\n",
       "      <th>information</th>\n",
       "    </tr>\n",
       "  </thead>\n",
       "  <tbody>\n",
       "    <tr>\n",
       "      <th>0</th>\n",
       "      <td>\\npokered\\n</td>\n",
       "      <td>\\n        Disassembly of Pokémon Red/Blue\\n</td>\n",
       "      <td>\\n\\n\\nAssembly\\n\\n\\n\\n\\n\\n            2.9k\\n          \\n\\n\\n\\n\\n            529\\n          \\n</td>\n",
       "    </tr>\n",
       "    <tr>\n",
       "      <th>1</th>\n",
       "      <td>\\npokecrystal\\n</td>\n",
       "      <td>\\n        Disassembly of Pokémon Crystal\\n</td>\n",
       "      <td>\\n\\n\\nAssembly\\n\\n\\n\\n\\n\\n            1.5k\\n          \\n\\n\\n\\n\\n            471\\n          \\n</td>\n",
       "    </tr>\n",
       "    <tr>\n",
       "      <th>2</th>\n",
       "      <td>\\npokeemerald\\n</td>\n",
       "      <td>\\n        Decompilation of Pokémon Emerald\\n</td>\n",
       "      <td>\\n\\n\\nC\\n\\n\\n\\n\\n\\n            920\\n          \\n\\n\\n\\n\\n            683\\n          \\n</td>\n",
       "    </tr>\n",
       "    <tr>\n",
       "      <th>3</th>\n",
       "      <td>\\npokeruby\\n</td>\n",
       "      <td>\\n        Decompilation of Pokémon Ruby/Sapphire\\n</td>\n",
       "      <td>\\n\\n\\nC\\n\\n\\n\\n\\n\\n            519\\n          \\n\\n\\n\\n\\n            150\\n          \\n</td>\n",
       "    </tr>\n",
       "    <tr>\n",
       "      <th>4</th>\n",
       "      <td>\\npokeyellow\\n</td>\n",
       "      <td>\\n        Disassembly of Pokemon Yellow\\n</td>\n",
       "      <td>\\n\\n\\nAssembly\\n\\n\\n\\n\\n\\n            420\\n          \\n\\n\\n\\n\\n            134\\n          \\n</td>\n",
       "    </tr>\n",
       "    <tr>\n",
       "      <th>5</th>\n",
       "      <td>\\npokegold\\n</td>\n",
       "      <td>\\n        Disassembly of Pokémon Gold/Silver\\n</td>\n",
       "      <td>\\n\\n\\nAssembly\\n\\n\\n\\n\\n\\n            251\\n          \\n\\n\\n\\n\\n            61\\n          \\n</td>\n",
       "    </tr>\n",
       "  </tbody>\n",
       "</table>\n",
       "</div>"
      ],
      "text/plain": [
       "      projecttitle                                                  projectd  \\\n",
       "0      \\npokered\\n         \\n        Disassembly of Pokémon Red/Blue\\n         \n",
       "1  \\npokecrystal\\n          \\n        Disassembly of Pokémon Crystal\\n         \n",
       "2  \\npokeemerald\\n        \\n        Decompilation of Pokémon Emerald\\n         \n",
       "3     \\npokeruby\\n  \\n        Decompilation of Pokémon Ruby/Sapphire\\n         \n",
       "4   \\npokeyellow\\n           \\n        Disassembly of Pokemon Yellow\\n         \n",
       "5     \\npokegold\\n      \\n        Disassembly of Pokémon Gold/Silver\\n         \n",
       "\n",
       "                                                                                     information  \n",
       "0  \\n\\n\\nAssembly\\n\\n\\n\\n\\n\\n            2.9k\\n          \\n\\n\\n\\n\\n            529\\n          \\n  \n",
       "1  \\n\\n\\nAssembly\\n\\n\\n\\n\\n\\n            1.5k\\n          \\n\\n\\n\\n\\n            471\\n          \\n  \n",
       "2          \\n\\n\\nC\\n\\n\\n\\n\\n\\n            920\\n          \\n\\n\\n\\n\\n            683\\n          \\n  \n",
       "3          \\n\\n\\nC\\n\\n\\n\\n\\n\\n            519\\n          \\n\\n\\n\\n\\n            150\\n          \\n  \n",
       "4   \\n\\n\\nAssembly\\n\\n\\n\\n\\n\\n            420\\n          \\n\\n\\n\\n\\n            134\\n          \\n  \n",
       "5    \\n\\n\\nAssembly\\n\\n\\n\\n\\n\\n            251\\n          \\n\\n\\n\\n\\n            61\\n          \\n  "
      ]
     },
     "execution_count": 126,
     "metadata": {},
     "output_type": "execute_result"
    }
   ],
   "source": [
    "projects = pd.DataFrame(project_dict)\n",
    "pd.set_option(\"display.max_colwidth\", None)\n",
    "\n",
    "\n",
    "projects"
   ]
  },
  {
   "cell_type": "markdown",
   "id": "b7d0d1b8",
   "metadata": {},
   "source": [
    "## Step 5: Presenting the Data\n",
    "\n",
    "I ended up defaulting to the manual way I learned to present data in Python using numpy and matplotlib, and wrote the variables out for use by the plotter. In the future, I will be interested to use a scraper that automatically translates the data into a .csv file like we got to work on previously."
   ]
  },
  {
   "cell_type": "code",
   "execution_count": 127,
   "id": "edfe7d56",
   "metadata": {},
   "outputs": [
    {
     "data": {
      "text/plain": [
       "<Figure size 640x480 with 1 Axes>"
      ]
     },
     "metadata": {},
     "output_type": "display_data"
    }
   ],
   "source": [
    "import matplotlib.pyplot as plt\n",
    "import numpy as np\n",
    "\n",
    "game = ('pokered', 'pokecrystal', 'pokeemerald', 'pokeruby', 'pokeyellow', 'pokegold')\n",
    "height = [2900, 1500, 920, 519, 420, 25]\n",
    "y_pos = np.arange(len(game))\n",
    "\n",
    "plt.barh(y_pos, height)\n",
    "\n",
    "plt.yticks(y_pos, game)\n",
    "\n",
    "plt.show()"
   ]
  },
  {
   "cell_type": "code",
   "execution_count": null,
   "id": "98ef475f",
   "metadata": {},
   "outputs": [],
   "source": []
  }
 ],
 "metadata": {
  "kernelspec": {
   "display_name": "Python 3",
   "language": "python",
   "name": "python3"
  },
  "language_info": {
   "codemirror_mode": {
    "name": "ipython",
    "version": 3
   },
   "file_extension": ".py",
   "mimetype": "text/x-python",
   "name": "python",
   "nbconvert_exporter": "python",
   "pygments_lexer": "ipython3",
   "version": "3.8.8"
  }
 },
 "nbformat": 4,
 "nbformat_minor": 5
}
