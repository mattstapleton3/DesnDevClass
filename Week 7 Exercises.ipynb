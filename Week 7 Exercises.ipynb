{
 "cells": [
  {
   "cell_type": "code",
   "execution_count": 1,
   "id": "c42d3da7",
   "metadata": {},
   "outputs": [
    {
     "data": {
      "text/plain": [
       "True"
      ]
     },
     "execution_count": 1,
     "metadata": {},
     "output_type": "execute_result"
    }
   ],
   "source": [
    "import nltk\n",
    "import nltk.tokenize\n",
    "\n",
    "nltk.download('punkt', quiet=True)"
   ]
  },
  {
   "cell_type": "code",
   "execution_count": 2,
   "id": "35164fc2",
   "metadata": {},
   "outputs": [
    {
     "name": "stdout",
     "output_type": "stream",
     "text": [
      "deathstranding.txt\n",
      "godofwar.txt\n",
      "stickoftruth.txt\n",
      "godofwar.txt\n",
      "Boy: I found some.\n",
      "\n",
      "Kratos: Get in the boat, boy.\n",
      "\n",
      "[He puts a cut down birch on his shoulder and goe\n"
     ]
    }
   ],
   "source": [
    "import os\n",
    "documents = []\n",
    "titles = []\n",
    "path = 'OneDrive/Desktop/comptext/'\n",
    "with os.scandir(path) as entries:\n",
    "    for entry in entries:\n",
    "        print(entry.name)\n",
    "        f = open(f'{path}\\{entry.name}',encoding='utf-8')\n",
    "        text = f.read()\n",
    "        documents.append(text)\n",
    "        titles.append(entry.name)\n",
    "print(titles[1])\n",
    "print(documents[1][0:100])"
   ]
  },
  {
   "cell_type": "code",
   "execution_count": 3,
   "id": "e26b1de5",
   "metadata": {},
   "outputs": [
    {
     "name": "stdout",
     "output_type": "stream",
     "text": [
      "to\n"
     ]
    }
   ],
   "source": [
    "import re\n",
    "PUNCT_RE = re.compile(r'[^\\w\\s]+$')\n",
    "\n",
    "def is_punct(string):\n",
    "    \"\"\"Check if STRING is a punctuation marker or a sequence of\n",
    "       punctuation markers.\n",
    "    \"\"\"\n",
    "    return PUNCT_RE.match(string) is not None\n",
    "def preprocess_text(text, language, lowercase=True):\n",
    "    \"\"\"Preprocess a text.\n",
    "\n",
    "    Perform a text preprocessing procedure, which transforms a string\n",
    "    object into a list of word tokens without punctuation markers.\n",
    "\n",
    "    \"\"\"\n",
    "    if lowercase:\n",
    "        text = text.lower()\n",
    "    tokens = nltk.tokenize.word_tokenize(text, language=language)\n",
    "    tokens = [token for token in tokens if not is_punct(token)]\n",
    "    return tokens\n",
    "tokenized = []\n",
    "for text in documents:\n",
    "    tokenized.append(preprocess_text(text, \"english\"))\n",
    "\n",
    "print(tokenized[0][11])"
   ]
  },
  {
   "cell_type": "code",
   "execution_count": 4,
   "id": "82e6e939",
   "metadata": {},
   "outputs": [
    {
     "name": "stdout",
     "output_type": "stream",
     "text": [
      "[\"'d\", \"'em\", \"'ll\", \"'m\", \"'re\", \"'s\", \"'ve\", '1', '10', '14', '2', '3', '4', '4.6', '5', '7', '70', '9', 'a', 'aaaah…', 'aaah', 'aah', 'aahhhh', 'aah…', 'abandon', 'abandoned', 'abduction', 'abilities', 'ability', 'able', 'abortion', 'abortions', 'about', 'above', 'absolutely', 'accept', 'access', 'accident', 'accompanied', 'according', 'accordingly', 'account', 'accounts', 'accuracy', 'accurate', 'across', 'act', 'acting', 'action', 'activating', 'activation', 'active', 'activity', 'actual', 'actually', 'adapt', 'add', 'added', 'addition', 'additional', 'addressed', 'adjustments', 'admin', 'administering', 'admit', 'adults', 'advance', 'advanced', 'advancements', 'advantage', 'adventure', 'advice', 'advised', 'aesir', 'afar', 'affairs', 'affinity', 'afraid', 'afraid…', 'after', 'afterlife', 'afterwards', 'again', 'again.', 'against', 'again…', 'age', 'agency', 'agent', 'agents', 'ages', 'agh', 'aghgh', 'ago', 'ago…', 'agree', 'agreed', 'ah', 'aha', 'ahaaa']\n"
     ]
    }
   ],
   "source": [
    "def extract_vocabulary(tokenized_corpus, min_count=1, max_count=float('inf')):\n",
    "    \"\"\"Extract a vocabulary from a tokenized corpus.\n",
    "\n",
    "    Arguments:\n",
    "        tokenized_corpus (list): a tokenized corpus represented, list\n",
    "            of lists of strings.\n",
    "        min_count (int, optional): the minimum occurrence count of a\n",
    "            vocabulary item in the corpus.\n",
    "        max_count (int, optional): the maximum occurrence count of a\n",
    "            vocabulary item in the corpus. Defaults to inf.\n",
    "\n",
    "    Returns:\n",
    "        list: An alphabetically ordered list of unique words in the\n",
    "            corpus, of which the frequencies adhere to the specified\n",
    "            minimum and maximum count.\n",
    "\n",
    "    Examples:\n",
    "        >>> corpus = [['the', 'man', 'love', 'man', 'the'],\n",
    "                      ['the', 'love', 'book', 'wise', 'drama'],\n",
    "                      ['a', 'story', 'book', 'drama']]\n",
    "        >>> extract_vocabulary(corpus, min_count=2)\n",
    "        ['book', 'drama', 'love', 'man', 'the']\n",
    "\n",
    "    \"\"\"\n",
    "    vocabulary = collections.Counter()\n",
    "    for document in tokenized_corpus:\n",
    "        vocabulary.update(document)\n",
    "    vocabulary = {word for word, count in vocabulary.items()\n",
    "                  if count >= min_count and count <= max_count}\n",
    "    return sorted(vocabulary)\n",
    "import collections\n",
    "vocabulary = extract_vocabulary(tokenized, min_count=2)\n",
    "print(vocabulary[0:100])\n",
    "\n",
    "def corpus2dtm(tokenized_corpus, vocabulary):\n",
    "    \"\"\"Transform a tokenized corpus into a document-term matrix.\n",
    "\n",
    "    Arguments:\n",
    "        tokenized_corpus (list): a tokenized corpus as a list of\n",
    "        lists of strings. vocabulary (list): An list of unique words.\n",
    "\n",
    "    Returns:\n",
    "        list: A list of lists representing the frequency of each term\n",
    "              in `vocabulary` for each document in the corpus.\n",
    "\n",
    "    Examples:\n",
    "        >>> tokenized_corpus = [['the', 'man', 'man', 'smart'],\n",
    "                                ['a', 'the', 'man' 'love'],\n",
    "                                ['love', 'book', 'journey']]\n",
    "        >>> vocab = ['book', 'journey', 'man', 'love']\n",
    "        >>> corpus2dtm(tokenized_corpus, vocabulary)\n",
    "        [[0, 0, 2, 0], [0, 0, 1, 1], [1, 1, 0, 1]]\n",
    "\n",
    "    \"\"\"\n",
    "    document_term_matrix = []\n",
    "    for document in tokenized_corpus:\n",
    "        document_counts = collections.Counter(document)\n",
    "        row = [document_counts[word] for word in vocabulary]\n",
    "        document_term_matrix.append(row)\n",
    "    return document_term_matrix\n",
    "\n",
    "import numpy as np\n",
    "\n",
    "document_term_matrix = np.array(corpus2dtm(tokenized, vocabulary))"
   ]
  },
  {
   "cell_type": "code",
   "execution_count": 7,
   "id": "a306abf5",
   "metadata": {},
   "outputs": [
    {
     "name": "stdout",
     "output_type": "stream",
     "text": [
      "Me:  [319 292 136]\n",
      "You:  [1700 1229 1259]\n",
      "Us:  [160 134  88]\n",
      "Them  [117 104  53]\n"
     ]
    },
    {
     "data": {
      "image/png": "[encoded data removed]",
      "text/plain": [
       "<Figure size 432x288 with 1 Axes>"
      ]
     },
     "metadata": {
      "needs_background": "light"
     },
     "output_type": "display_data"
    }
   ],
   "source": [
    "me_id = vocabulary.index('me')\n",
    "you_id = vocabulary.index('you')\n",
    "us_id = vocabulary.index('us')\n",
    "them_id = vocabulary.index('them')\n",
    "\n",
    "me_counts = document_term_matrix[:, me_id]\n",
    "you_counts = document_term_matrix[:, you_id]\n",
    "us_counts = document_term_matrix[:, us_id]\n",
    "them_counts = document_term_matrix[:, them_id]\n",
    "print(\"Me:  \" + str(me_counts))\n",
    "print(\"You:  \" + str(you_counts))\n",
    "print(\"Us:  \" + str(us_counts))\n",
    "print(\"Them  \" + str(them_counts))\n",
    "\n",
    "import matplotlib.pyplot as plt\n",
    "\n",
    "x = np.arange(len(titles))\n",
    "width = 1/(len(titles))\n",
    "\n",
    "fig, ax = plt.subplots()\n",
    "rects1 = ax.bar(x - width, me_counts, width, label=\"Me\")\n",
    "rects2 = ax.bar(x - width, you_counts, width, label=\"You\")\n",
    "rects3 = ax.bar(x - width, us_counts, width, label=\"Us\")\n",
    "rects4 = ax.bar(x - width, them_counts, width, label=\"Them\")\n",
    "\n",
    "ax.set_ylabel(\"Word Count\")\n",
    "ax.set_title(\"Personal Pronouns\")\n",
    "ax.set_xticks(x)\n",
    "ax.set_xticklabels(titles)\n",
    "ax.legend()\n",
    "\n",
    "fig.tight_layout()\n",
    "\n",
    "plt.show()"
   ]
  },
  {
   "cell_type": "code",
   "execution_count": 8,
   "id": "bcc92004",
   "metadata": {},
   "outputs": [
    {
     "name": "stdout",
     "output_type": "stream",
     "text": [
      "deathstranding.txt vs godofwar.txt: 471.1793713650885\n",
      "deathstranding.txt vs stickoftruth.txt: 445.6197930972097\n",
      "godofwar.txt vs stickoftruth.txt: 59.16924876994806\n"
     ]
    }
   ],
   "source": [
    "def euclidean_distance(a, b):\n",
    "    \"\"\"Compute the Euclidean distance between two vectors.\n",
    "\n",
    "    Note: ``numpy.linalg.norm(a - b)`` performs the\n",
    "    same calculation using a slightly faster method.\n",
    "\n",
    "    Arguments:\n",
    "        a (numpy.ndarray): a vector of floats or ints.\n",
    "        b (numpy.ndarray): a vector of floats or ints.\n",
    "\n",
    "    Returns:\n",
    "        float: The euclidean distance between vector a and b.\n",
    "\n",
    "    Examples:\n",
    "        >>> import numpy as np\n",
    "        >>> a = np.array([1, 4, 2, 8])\n",
    "        >>> b = np.array([2, 1, 4, 7])\n",
    "        >>> round(euclidean_distance(a, b), 2)\n",
    "        3.87\n",
    "\n",
    "    \"\"\"\n",
    "    return np.sqrt(np.sum((a - b) ** 2))\n",
    "vectors = []\n",
    "for x in range(0, len(titles)):\n",
    "    vectors.append([you_counts[x], them_counts[x]])\n",
    "    \n",
    "for x in range(0, len(vectors)):\n",
    "    for y in range(x+1, len(vectors)):\n",
    "        comparison = euclidean_distance(np.array(vectors[x]), np.array(vectors[y]))\n",
    "        print(f'{titles[x]} vs {titles[y]}: {comparison}')"
   ]
  },
  {
   "cell_type": "code",
   "execution_count": null,
   "id": "2079e7e3",
   "metadata": {},
   "outputs": [],
   "source": []
  }
 ],
 "metadata": {
  "kernelspec": {
   "display_name": "Python 3 (ipykernel)",
   "language": "python",
   "name": "python3"
  },
  "language_info": {
   "codemirror_mode": {
    "name": "ipython",
    "version": 3
   },
   "file_extension": ".py",
   "mimetype": "text/x-python",
   "name": "python",
   "nbconvert_exporter": "python",
   "pygments_lexer": "ipython3",
   "version": "3.8.11"
  }
 },
 "nbformat": 4,
 "nbformat_minor": 5
}
