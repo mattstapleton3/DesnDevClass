{
 "cells": [
  {
   "cell_type": "markdown",
   "id": "9cc87ac5",
   "metadata": {},
   "source": [
    "# Exercise Twelve: Texts, Three Ways\n",
    "\n",
    "For this week, I used novels from the Gutenberg project because they had full texts. There wasn't much rhyme or reason to the ones I selected, other than them having interesting titles or being ones that I had previously read. So, read on!"
   ]
  },
  {
   "cell_type": "code",
   "execution_count": 4,
   "id": "5b7137b5",
   "metadata": {},
   "outputs": [
    {
     "data": {
      "text/plain": [
       "'C:\\\\Users\\\\inani'"
      ]
     },
     "execution_count": 4,
     "metadata": {},
     "output_type": "execute_result"
    }
   ],
   "source": [
    "import os\n",
    "cwd = os.getcwd()\n",
    "path = \"C:\\\\Users\\\\inani\\\\OneDrive\\\\Desktop\\\\Novels\"\n",
    "\n",
    "cwd"
   ]
  },
  {
   "cell_type": "markdown",
   "id": "27648be3",
   "metadata": {},
   "source": [
    "## Topic Modeling"
   ]
  },
  {
   "cell_type": "code",
   "execution_count": 6,
   "id": "c8cf5517",
   "metadata": {},
   "outputs": [
    {
     "name": "stdout",
     "output_type": "stream",
     "text": [
      "10\n",
      "['C:\\\\Users\\\\inani\\\\OneDrive\\\\Desktop\\\\Novels\\\\Candide.txt', 'C:\\\\Users\\\\inani\\\\OneDrive\\\\Desktop\\\\Novels\\\\Count of Monty Cristo.txt', 'C:\\\\Users\\\\inani\\\\OneDrive\\\\Desktop\\\\Novels\\\\Dubliners.txt', 'C:\\\\Users\\\\inani\\\\OneDrive\\\\Desktop\\\\Novels\\\\Japanese Girls and Women.txt', 'C:\\\\Users\\\\inani\\\\OneDrive\\\\Desktop\\\\Novels\\\\Leviathan.txt', 'C:\\\\Users\\\\inani\\\\OneDrive\\\\Desktop\\\\Novels\\\\Pickle for the Knowing Ones.txt', 'C:\\\\Users\\\\inani\\\\OneDrive\\\\Desktop\\\\Novels\\\\Pygmalion.txt', 'C:\\\\Users\\\\inani\\\\OneDrive\\\\Desktop\\\\Novels\\\\Siddartha.txt', 'C:\\\\Users\\\\inani\\\\OneDrive\\\\Desktop\\\\Novels\\\\The Yellow Wallpaper.txt', 'C:\\\\Users\\\\inani\\\\OneDrive\\\\Desktop\\\\Novels\\\\War of the Worlds.txt']\n"
     ]
    }
   ],
   "source": [
    "import pandas as pd\n",
    "import os\n",
    "import numpy as np\n",
    "documents = []\n",
    "path = \"C:\\\\Users\\\\inani\\\\OneDrive\\\\Desktop\\\\Novels\"\n",
    "\n",
    "filenames = sorted([os.path.join(path, fn) for fn in os.listdir(path)])\n",
    "print(len(filenames))\n",
    "print(filenames[:10])"
   ]
  },
  {
   "cell_type": "code",
   "execution_count": 7,
   "id": "b8a89454",
   "metadata": {},
   "outputs": [],
   "source": [
    "import sklearn.feature_extraction.text as text\n",
    "\n",
    "vectorizer = text.CountVectorizer(input = 'filename', stop_words = \"english\", min_df=1)\n",
    "dtm = vectorizer.fit_transform(filenames).toarray()\n",
    "\n",
    "vocab = np.array(vectorizer.get_feature_names())"
   ]
  },
  {
   "cell_type": "code",
   "execution_count": 8,
   "id": "f6e7a24a",
   "metadata": {},
   "outputs": [
    {
     "name": "stdout",
     "output_type": "stream",
     "text": [
      "Shape of document-term matrix: (10, 30111). Number of tokens 450530\n"
     ]
    }
   ],
   "source": [
    "print(f'Shape of document-term matrix: {dtm.shape}. '\n",
    "      f'Number of tokens {dtm.sum()}')"
   ]
  },
  {
   "cell_type": "code",
   "execution_count": 9,
   "id": "38387ecb",
   "metadata": {},
   "outputs": [],
   "source": [
    "import sklearn.decomposition as decomposition\n",
    "model = decomposition.LatentDirichletAllocation(\n",
    "    n_components=100, learning_method='online', random_state=1)\n",
    "document_topic_distributions = model.fit_transform(dtm)\n",
    "vocabulary = vectorizer.get_feature_names()\n",
    "assert model.components_.shape == (100, len(vocabulary))\n",
    "assert document_topic_distributions.shape == (dtm.shape[0], 100)  "
   ]
  },
  {
   "cell_type": "code",
   "execution_count": 10,
   "id": "9ddf1547",
   "metadata": {},
   "outputs": [
    {
     "name": "stdout",
     "output_type": "stream",
     "text": [
      "                00       000     0009m     0011m     0019m     0023m  \\\n",
      "Topic 0   0.237937  0.335443  0.194169  0.184004  0.240808  0.189762   \n",
      "Topic 1   0.197488  0.274509  0.184671  0.216676  0.207122  0.192429   \n",
      "Topic 2   0.226230  0.250514  0.216694  0.187564  0.211017  0.206067   \n",
      "Topic 3   0.219859  0.327713  0.236428  0.184114  0.200921  0.219076   \n",
      "Topic 4   0.216569  0.346807  0.201075  0.206265  0.217184  0.222891   \n",
      "...            ...       ...       ...       ...       ...       ...   \n",
      "Topic 95  0.204099  0.358854  0.163648  0.226625  0.229619  0.204009   \n",
      "Topic 96  0.200308  0.299750  0.238585  0.212521  0.229581  0.228826   \n",
      "Topic 97  0.209417  0.290570  0.158161  0.206559  0.195335  0.204160   \n",
      "Topic 98  0.210859  0.378469  0.226140  0.215979  0.181068  0.162027   \n",
      "Topic 99  0.199859  0.342573  0.207714  0.198750  0.191784  0.226908   \n",
      "\n",
      "             0025m     0027m     0029m     0035m  ...       καὶ       μὲν  \\\n",
      "Topic 0   0.234634  0.166539  0.227590  0.183482  ...  0.200277  0.204925   \n",
      "Topic 1   0.200455  0.188110  0.178124  0.219030  ...  0.188218  0.187456   \n",
      "Topic 2   0.211103  0.195758  0.203264  0.202638  ...  0.195691  0.183252   \n",
      "Topic 3   0.215455  0.202493  0.193363  0.224135  ...  0.218016  0.226416   \n",
      "Topic 4   0.217548  0.189747  0.222984  0.209237  ...  0.234901  0.199132   \n",
      "...            ...       ...       ...       ...  ...       ...       ...   \n",
      "Topic 95  0.225512  0.213248  0.169394  0.194489  ...  0.188567  0.218749   \n",
      "Topic 96  0.232570  0.204901  0.207923  0.201970  ...  0.221377  0.253718   \n",
      "Topic 97  0.210347  0.224755  0.209476  0.207122  ...  0.209512  0.200208   \n",
      "Topic 98  0.224025  0.198469  0.190297  0.207685  ...  0.184087  0.203503   \n",
      "Topic 99  0.188520  0.185392  0.204187  0.200239  ...  0.201406  0.208186   \n",
      "\n",
      "              μήζε    πατρὸς  προδοσίαν  προδότου        τὸ      ἄτην  \\\n",
      "Topic 0   0.203750  0.201935   0.215255  0.179083  0.193386  0.191511   \n",
      "Topic 1   0.187360  0.228781   0.194227  0.207612  0.198889  0.177713   \n",
      "Topic 2   0.216159  0.200299   0.182374  0.202000  0.235344  0.223777   \n",
      "Topic 3   0.219677  0.189992   0.198343  0.179532  0.214071  0.176908   \n",
      "Topic 4   0.196210  0.189716   0.177345  0.195145  0.205651  0.225193   \n",
      "...            ...       ...        ...       ...       ...       ...   \n",
      "Topic 95  0.194975  0.217772   0.200032  0.186038  0.191828  0.192140   \n",
      "Topic 96  0.188540  0.156610   0.206305  0.233525  0.199859  0.195503   \n",
      "Topic 97  0.235103  0.214500   0.202159  0.201822  0.184890  0.191023   \n",
      "Topic 98  0.210488  0.211758   0.202191  0.212321  0.201490  0.224090   \n",
      "Topic 99  0.189890  0.211886   0.202610  0.232130  0.216701  0.217468   \n",
      "\n",
      "              ἡμῖν     ὄνομα  \n",
      "Topic 0   0.210973  0.216022  \n",
      "Topic 1   0.195342  0.222553  \n",
      "Topic 2   0.220971  0.213821  \n",
      "Topic 3   0.170248  0.190166  \n",
      "Topic 4   0.195290  0.211527  \n",
      "...            ...       ...  \n",
      "Topic 95  0.212063  0.212398  \n",
      "Topic 96  0.237117  0.183914  \n",
      "Topic 97  0.214705  0.198937  \n",
      "Topic 98  0.187868  0.258882  \n",
      "Topic 99  0.193246  0.183378  \n",
      "\n",
      "[100 rows x 30111 columns]\n"
     ]
    }
   ],
   "source": [
    "topic_names = [f'Topic {k}' for k in range(100)]\n",
    "topic_word_distributions = pd.DataFrame(\n",
    "    model.components_, columns=vocabulary, index=topic_names)\n",
    "print(topic_word_distributions)"
   ]
  },
  {
   "cell_type": "code",
   "execution_count": 11,
   "id": "1c065194",
   "metadata": {},
   "outputs": [
    {
     "data": {
      "text/plain": [
       "said         3.380196\n",
       "man          2.794235\n",
       "time         1.902662\n",
       "men          1.822909\n",
       "higgins      1.464354\n",
       "yes          1.448442\n",
       "god          1.443119\n",
       "count        1.373719\n",
       "know         1.337315\n",
       "like         1.291923\n",
       "did          1.238977\n",
       "shall        1.200800\n",
       "cristo       1.095538\n",
       "say          1.093216\n",
       "old          1.081811\n",
       "monte        1.040097\n",
       "villefort    1.027820\n",
       "think        1.009362\n",
       "Name: Topic 9, dtype: float64"
      ]
     },
     "execution_count": 11,
     "metadata": {},
     "output_type": "execute_result"
    }
   ],
   "source": [
    "topic_word_distributions.loc['Topic 9'].sort_values(ascending=False).head(18)"
   ]
  },
  {
   "cell_type": "code",
   "execution_count": 13,
   "id": "1edcc8ea",
   "metadata": {},
   "outputs": [
    {
     "data": {
      "image/png": "[encoded data removed]",
      "text/plain": [
       "<Figure size 432x288 with 1 Axes>"
      ]
     },
     "metadata": {
      "needs_background": "light"
     },
     "output_type": "display_data"
    }
   ],
   "source": [
    "words = topic_word_distributions.loc['Topic 2'].sort_values(ascending=False).head(18)\n",
    "words\n",
    "\n",
    "from matplotlib import pyplot as plt\n",
    "from wordcloud import WordCloud, STOPWORDS\n",
    "import matplotlib.colors as mcolors\n",
    "\n",
    "wordcloud = WordCloud().generate_from_frequencies(words)\n",
    "\n",
    "plt.imshow(wordcloud, interpolation='bilinear')\n",
    "plt.axis(\"off\")\n",
    "plt.show()"
   ]
  },
  {
   "cell_type": "markdown",
   "id": "cce03d05",
   "metadata": {},
   "source": [
    "## Sentiment Analysis"
   ]
  },
  {
   "cell_type": "code",
   "execution_count": 14,
   "id": "2cd9829c",
   "metadata": {},
   "outputs": [
    {
     "name": "stderr",
     "output_type": "stream",
     "text": [
      "[nltk_data] Downloading package vader_lexicon to\n",
      "[nltk_data]     C:\\Users\\inani\\AppData\\Roaming\\nltk_data...\n",
      "[nltk_data] Downloading package punkt to\n",
      "[nltk_data]     C:\\Users\\inani\\AppData\\Roaming\\nltk_data...\n",
      "[nltk_data]   Package punkt is already up-to-date!\n"
     ]
    }
   ],
   "source": [
    "import nltk\n",
    "nltk.download('vader_lexicon')\n",
    "nltk.download('punkt')\n",
    "\n",
    "from nltk.sentiment.vader import SentimentIntensityAnalyzer\n",
    "sid = SentimentIntensityAnalyzer()"
   ]
  },
  {
   "cell_type": "code",
   "execution_count": 15,
   "id": "bf8aa425",
   "metadata": {},
   "outputs": [
    {
     "name": "stdout",
     "output_type": "stream",
     "text": [
      "C:\\Users\\inani\\OneDrive\\Desktop\\Novels\\Candide.txt\n",
      "compound: -0.0258, neg: 0.06, neu: 0.882, pos: 0.058,  \n",
      "C:\\Users\\inani\\OneDrive\\Desktop\\Novels\\Count of Monty Cristo.txt\n",
      "compound: -0.5267, neg: 0.042, neu: 0.958, pos: 0.0,  \n",
      "C:\\Users\\inani\\OneDrive\\Desktop\\Novels\\Dubliners.txt\n",
      "compound: -0.5719, neg: 0.102, neu: 0.836, pos: 0.062,  \n",
      "C:\\Users\\inani\\OneDrive\\Desktop\\Novels\\Japanese Girls and Women.txt\n",
      "compound: 0.7506, neg: 0.0, neu: 0.912, pos: 0.088,  \n",
      "C:\\Users\\inani\\OneDrive\\Desktop\\Novels\\Leviathan.txt\n",
      "compound: 0.7125, neg: 0.0, neu: 0.903, pos: 0.097,  \n",
      "C:\\Users\\inani\\OneDrive\\Desktop\\Novels\\Pickle for the Knowing Ones.txt\n",
      "compound: 0.6908, neg: 0.0, neu: 0.909, pos: 0.091,  \n",
      "C:\\Users\\inani\\OneDrive\\Desktop\\Novels\\Pygmalion.txt\n",
      "compound: 0.4497, neg: 0.034, neu: 0.895, pos: 0.071,  \n",
      "C:\\Users\\inani\\OneDrive\\Desktop\\Novels\\Siddartha.txt\n",
      "compound: 0.9042, neg: 0.0, neu: 0.87, pos: 0.13,  \n",
      "C:\\Users\\inani\\OneDrive\\Desktop\\Novels\\The Yellow Wallpaper.txt\n",
      "compound: 0.747, neg: 0.023, neu: 0.848, pos: 0.129,  \n",
      "C:\\Users\\inani\\OneDrive\\Desktop\\Novels\\War of the Worlds.txt\n",
      "compound: -0.8722, neg: 0.124, neu: 0.838, pos: 0.038,  \n"
     ]
    }
   ],
   "source": [
    "for filename in filenames:\n",
    "    with open(filename, encoding=\"utf-8\") as f:\n",
    "        text = f.read()\n",
    "        documents.append(text)\n",
    "        scores = sid.polarity_scores(text[0:500])\n",
    "    print(filename)\n",
    "    for key in sorted(scores):\n",
    "        print('{0}: {1}, '.format(key, scores[key]), end='')\n",
    "    print(' ')"
   ]
  },
  {
   "cell_type": "markdown",
   "id": "ca9ac5b9",
   "metadata": {},
   "source": [
    "## Generation"
   ]
  },
  {
   "cell_type": "code",
   "execution_count": 17,
   "id": "bb4f7a8a",
   "metadata": {},
   "outputs": [],
   "source": [
    "import markovify\n",
    "import random\n",
    "generator_text = \"\"\n",
    "\n",
    "for document in documents:\n",
    "    generator_text += document"
   ]
  },
  {
   "cell_type": "code",
   "execution_count": 18,
   "id": "61aca4a2",
   "metadata": {},
   "outputs": [
    {
     "name": "stdout",
     "output_type": "stream",
     "text": [
      "This may appear to be, like the wheels of a sharp noise that brought his daughter’s room.\n"
     ]
    }
   ],
   "source": [
    "text_model = markovify.Text(generator_text)\n",
    "print( text_model.make_sentence() )"
   ]
  },
  {
   "cell_type": "code",
   "execution_count": 19,
   "id": "16a8d755",
   "metadata": {},
   "outputs": [
    {
     "name": "stdout",
     "output_type": "stream",
     "text": [
      "But when it shall seem good in his pale and motionless; when Monte Cristo smiled, not with them. He says that if I had to go back to business. We haven’t many of the 4th of September, M. Morrel had returned at this singular man, who was overwhelmed as he ran—a grotesque mingling of many things, Kamala, you’ll see. The shutters of a superior for an explanation. Surely we may read, Marke 13..26. and 14.26. and more spiritual than others, more supple, more willing. \n",
      "\n",
      "With that realisation my interest shifted to those that beleeved we read of the young girl fixed her imperious look of deep tenderness, while the terror to think that she carried away to the Vitriol Works and then be escorted back to Rome. When our little treasure for the Château d’If, got on board of which the cardinals already held; and then starts out with Mr Bartell D’Arcy and Miss Delacour were standing about it, to live her own children, who learn the joys and sorrows, without being exactly Minister, governed Spain under Ferdinand VI.; he died in less than two fathers to you. Remember to go back to the company. After a long time and distance. \n",
      "\n",
      "And then the peculiar circumstances of his own default, hath taken away Ali, and they gave him a Right thereto from the other of the Prince to be called the Word of god, was the river and being thereof acquitted, is neverthelesse condemned to die, mortal was Siddhartha, mortal was Siddhartha, mortal was every physical form. He saw Kamaswami, saw the abbé might probably be able to feel really grown-up and tremendous, like other chaps. Mrs Donnelly said it was unfast and was within three steps of the new civilization are disagreed in regard to them, is a weary one, and her expression is almost invariably closed, between the sixth day of great and inevitable inconvenience. The sacrifices and the crowd from crushing the driver was paid as the door of the boats. Then he mumbled good-night and went down the piers of the Wey and Thames join. Villefort, astonished at this day is over. \n",
      "\n",
      "For Pharaoh Necho was an absolute crudeness in foreign dress wear it made the count saw in a physical medium, you must keep together at my house; they will tell you they’re all engaged. The old philosopher, whose name they bear, so that the death of this agreement. As the Inquisition when going to roast one of her inferior birth, and the students, while always considerately treated, are able to destroy the Martians have worked out. Enormous quantities of letters from the theatre trains which usually leads strangers to lawsuits. Siddhartha lost his patience was exhausted, he called for me and paying the tram out and across the sky, a black, vague enigma against the world. The fire crackled, and the Abarian heroes had treated Gaetano’s description as a motive to serve the same thing: And the differences between apt, and inept counsellours be derived from him; for they also think so, Colonel Pickering? I made a step backward rather than sooner or later, have its effect, and the man Christ; and 3. in the resplendent night of the horses. He had made an agreement with death to the count’s carriage stopped at an immeasurable distance under the horse’s head hard round to Debray, without answering her husband. \n",
      "\n",
      "\n"
     ]
    }
   ],
   "source": [
    "novel = ''\n",
    "while (len( novel.split(\" \")) < 500):\n",
    "  for i in range(random.randrange(3,9)):\n",
    "    novel += text_model.make_sentence() + \" \"\n",
    "  novel += \"\\n\\n\"\n",
    "\n",
    "print(novel)"
   ]
  },
  {
   "cell_type": "code",
   "execution_count": null,
   "id": "a16ee561",
   "metadata": {},
   "outputs": [],
   "source": []
  }
 ],
 "metadata": {
  "kernelspec": {
   "display_name": "Python 3 (ipykernel)",
   "language": "python",
   "name": "python3"
  },
  "language_info": {
   "codemirror_mode": {
    "name": "ipython",
    "version": 3
   },
   "file_extension": ".py",
   "mimetype": "text/x-python",
   "name": "python",
   "nbconvert_exporter": "python",
   "pygments_lexer": "ipython3",
   "version": "3.8.11"
  }
 },
 "nbformat": 4,
 "nbformat_minor": 5
}
